{
  "nbformat": 4,
  "nbformat_minor": 0,
  "metadata": {
    "colab": {
      "provenance": [],
      "authorship_tag": "ABX9TyN80MYzyjaxYLPqy6OBkx0x",
      "include_colab_link": true
    },
    "kernelspec": {
      "name": "python3",
      "display_name": "Python 3"
    },
    "language_info": {
      "name": "python"
    }
  },
  "cells": [
    {
      "cell_type": "markdown",
      "metadata": {
        "id": "view-in-github",
        "colab_type": "text"
      },
      "source": [
        "<a href=\"https://colab.research.google.com/github/DavidSheltonSF/Proz-CodeParks/blob/main/Exercicios/exAula6.ipynb\" target=\"_parent\"><img src=\"https://colab.research.google.com/assets/colab-badge.svg\" alt=\"Open In Colab\"/></a>"
      ]
    },
    {
      "cell_type": "markdown",
      "source": [
        "# Exercícios da Aula ao vivo 12/07\n",
        "\n",
        "Solução feita por mim e mais 2 alunos. (É possível sejam feita edições por mim)"
      ],
      "metadata": {
        "id": "a9FXBlnjnQVm"
      }
    },
    {
      "cell_type": "markdown",
      "source": [
        "Criar uma função que pede ao usuário escolher um número entre 10 e 100, e imprime mensagens de erro diferentes dependendo do tipo de erro."
      ],
      "metadata": {
        "id": "wyc1vQudYFCO"
      }
    },
    {
      "cell_type": "code",
      "source": [
        "def ler_numero():\n",
        "  while True:\n",
        "    try:\n",
        "      numero = float(input(\"Digite um número: \"))\n",
        "      # Se o número estiver fora do intervalo\n",
        "      if numero < 10 or numero > 100:\n",
        "          print(\"ERRO: Número fora do intervalo! Informe um número entre 10 e 100.\")\n",
        "      # Senão\n",
        "      else:\n",
        "          return  numero\n",
        "    # Exeção: Valor inválido\n",
        "    except ValueError:\n",
        "      print(\"ERRO: Caractere inválido! Informe um valor numérico\")\n",
        "\n",
        "\n",
        "n = ler_numero()\n",
        "print(\"O número digitado foi: \", n)"
      ],
      "metadata": {
        "colab": {
          "base_uri": "https://localhost:8080/"
        },
        "id": "dQLC1dqcYB-n",
        "outputId": "f801192b-9a0b-4931-d253-d37a68122bf6"
      },
      "execution_count": 18,
      "outputs": [
        {
          "output_type": "stream",
          "name": "stdout",
          "text": [
            "Digite um número: fdsf\n",
            "ERRO: Caractere inválido! Informe um valor numérico\n",
            "Digite um número: 5\n",
            "ERRO: Número fora do intervalo! Informe um número entre 10 e 100.\n",
            "Digite um número: 10\n",
            "O número digitado foi:  10.0\n"
          ]
        }
      ]
    },
    {
      "cell_type": "code",
      "source": [],
      "metadata": {
        "id": "U6xRoSNZKAG3"
      },
      "execution_count": null,
      "outputs": []
    },
    {
      "cell_type": "markdown",
      "source": [
        "Segunda função que pede para o usuário inserir um número par lançando uma mensagem de erro apropriada."
      ],
      "metadata": {
        "id": "0NN0d_lHYGv2"
      }
    },
    {
      "cell_type": "code",
      "source": [
        "def escolhaUmNumeroPar():\n",
        "\n",
        "  try:\n",
        "    numero = int(input(\"Digite um número par: \"))\n",
        "\n",
        "  except:\n",
        "    return Exception(\"ERRO! Insira um valor válido!\")\n",
        "\n",
        "  if numero % 2 != 0:\n",
        "    return Exception(\"ERRO! Insire um número par\")\n",
        "  return numero\n",
        "\n",
        "\n",
        "while True:\n",
        "  n = escolhaUmNumeroPar()\n",
        "  if type(n) is int:\n",
        "    break\n",
        "  else:\n",
        "    print(n)\n",
        "\n",
        "\n",
        "print(\"O número escolhido foi: \", n)"
      ],
      "metadata": {
        "colab": {
          "base_uri": "https://localhost:8080/"
        },
        "id": "9nDPvHRxhxtt",
        "outputId": "57db2937-eb5f-44a6-8d5f-00958d24e59f"
      },
      "execution_count": null,
      "outputs": [
        {
          "name": "stdout",
          "output_type": "stream",
          "text": [
            "Digite um número par: 7\n",
            "ERRO! Insire um número par\n",
            "ERRO! Insira um valor válido!\n",
            "Digite um número par: 10\n",
            "O número escolhido foi:  10\n",
            "Digite um número par: 90\n"
          ]
        }
      ]
    },
    {
      "cell_type": "markdown",
      "source": [
        "Expandir essa função para pedir um número divisível por 2 e por 3, também com mensagens de erros apropriadas para cada cenário possível."
      ],
      "metadata": {
        "id": "Z6KNFKTxYINX"
      }
    },
    {
      "cell_type": "code",
      "source": [
        "def escolhaUmNumeroPar():\n",
        "\n",
        "  try:\n",
        "    numero = int(input(\"Digite um número divisível por 2 e 3: \"))\n",
        "\n",
        "  except:\n",
        "    return Exception(\"ERRO! Insira um valor válido!\")\n",
        "\n",
        "  if numero % 2 != 0 or numero % 3 != 0:\n",
        "    return Exception(\"ERRO! Insire um número divisível por 2 e 3\")\n",
        "  return numero\n",
        "\n",
        "\n",
        "while True:\n",
        "  n = escolhaUmNumeroPar()\n",
        "  if type(n) is int:\n",
        "    break\n",
        "  else:\n",
        "    print(n)\n",
        "\n",
        "\n",
        "print(\"O número escolhido foi: \", n)"
      ],
      "metadata": {
        "id": "S3tuXJznYI-N",
        "colab": {
          "base_uri": "https://localhost:8080/"
        },
        "outputId": "2d915c45-dca8-4622-ba52-e549daa72ec1"
      },
      "execution_count": null,
      "outputs": [
        {
          "output_type": "stream",
          "name": "stdout",
          "text": [
            "Digite um número divisível por 2 e 3: 30\n",
            "O número escolhido foi:  30\n"
          ]
        }
      ]
    }
  ]
}