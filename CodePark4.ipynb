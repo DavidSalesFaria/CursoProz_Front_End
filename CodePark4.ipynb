{
 "cells": [
  {
   "cell_type": "markdown",
   "metadata": {},
   "source": [
    "# CodePark4\n",
    "\n",
    "\n",
    "**Instruções:**\n",
    "\n",
    "Faça uma função calculadora de dois números com três parâmetros: os dois primeiros serão os números da operação e o terceiro será a entrada que definirá a operação a ser executada. Considera a seguinte definição:\n",
    "1. Soma\n",
    "2. Subtração\n",
    "3. Multiplicação\n",
    "4. Divisão\n",
    "\n",
    "Caso seja inserido um número de operação que não exista, o resultado deverá ser 0.\n",
    "\n",
    "Trabalhe esse código em seu IDE, suba ele para sua conta no GitHub e compartilhe o link desse projeto no campo ao lado para que outros desenvolvedores possam analisá-lo.\n",
    "\n",
    "\n",
    "Executar: [Google Colab](https://colab.research.google.com/github/DavidSheltonSF/Proz-CodeParks/blob/main/CodePark4.ipynb)"
   ]
  },
  {
   "cell_type": "code",
   "execution_count": 14,
   "metadata": {},
   "outputs": [
    {
     "data": {
      "text/plain": [
       "0.5"
      ]
     },
     "execution_count": 14,
     "metadata": {},
     "output_type": "execute_result"
    }
   ],
   "source": [
    "def calc(n1, n2, op):\n",
    "    \"\"\"Função calculadora\n",
    "\n",
    "    Argumentos:\n",
    "        n1 (int): primeiro número\n",
    "        n2 (int): segundo número\n",
    "        op (int): operação\n",
    "\n",
    "    Retorno:\n",
    "        int: Retorna o resultado da operação dos dois números\n",
    "    \"\"\"\n",
    "    \n",
    "    resultado = 0\n",
    "\n",
    "    if op == 1:\n",
    "        resultado = n1 + n2\n",
    "    elif op == 2:\n",
    "        resultado = n1 - n2\n",
    "    elif op == 3:\n",
    "        resultado = n1 * n2\n",
    "    elif op == 4:\n",
    "        resultado = n1 / n2\n",
    "    else:\n",
    "        # Não faz nada\n",
    "        pass\n",
    "\n",
    "    # Retorna o resultado\n",
    "    return resultado\n",
    "\n",
    "\n",
    "calculo = calc(2, 4, 4)"
   ]
  },
  {
   "cell_type": "markdown",
   "metadata": {},
   "source": [
    "Mesma função, porém utilizando a estrutura ESCOLHA-CASO em python (compatível apenas com python 3:10 ou superior)"
   ]
  },
  {
   "cell_type": "code",
   "execution_count": null,
   "metadata": {},
   "outputs": [],
   "source": [
    "def calc(n1, n2, op):\n",
    "    resultado = 0\n",
    "    match op:\n",
    "      case 1:\n",
    "        resultado = n1 + n2\n",
    "      case 2:\n",
    "          resultado = n1 - n2\n",
    "      case 3:\n",
    "          resultado = n1 * n2\n",
    "      case 4:\n",
    "          resultado = n1 / n2\n",
    "      case _:\n",
    "          pass\n",
    "    return resultado\n",
    "\n",
    "\n",
    "calculo = calc(5, 5, 4)"
   ]
  }
 ],
 "metadata": {
  "kernelspec": {
   "display_name": "Python 3.8.10 64-bit",
   "language": "python",
   "name": "python3"
  },
  "language_info": {
   "codemirror_mode": {
    "name": "ipython",
    "version": 3
   },
   "file_extension": ".py",
   "mimetype": "text/x-python",
   "name": "python",
   "nbconvert_exporter": "python",
   "pygments_lexer": "ipython3",
   "version": "3.8.10"
  },
  "orig_nbformat": 4,
  "vscode": {
   "interpreter": {
    "hash": "82fbd41b33644bad7662c69960d7a372bfb883b21c6db4014fe0e40d5c1689fc"
   }
  }
 },
 "nbformat": 4,
 "nbformat_minor": 2
}
