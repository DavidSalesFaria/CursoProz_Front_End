{
 "cells": [
  {
   "cell_type": "markdown",
   "metadata": {},
   "source": [
    "# CodePark5\n",
    "\n",
    "**Instruções:**\n",
    "\n",
    "Faça uma função calculadora que os números e as operações serão feitas pelo usuário. O código deve ficar rodando infinitamente até que o usuário escolha a opção de sair. No início, o programa mostrará a seguinte lista de operações:\n",
    "\n",
    "1: Soma\n",
    "2: Subtração\n",
    "3: Multiplicação\n",
    "4: Divisão\n",
    "0: Sair\n",
    "\n",
    "Digite o número para a operação correspondente e caso o usuário introduza qualquer outro, o sistema deve mostrar a mensagem “Essa opção não existe” e voltar ao menu de opções.\n",
    "\n",
    "Após a seleção, o sistema deve pedir para o usuário inserir o primeiro e segundo valor, um de cada. Depois precisa executar a operação e mostrar o resultado na tela. Quando o usuário escolher a opção “Sair”, o sistema irá parar.\n",
    "\n",
    "É necessário que o sistema mostre as opções sempre que finalizar uma operação e mostrar o resultado. \n",
    "\n",
    "Trabalhe esse código em seu IDE, suba ele para sua conta no GitHub e compartilhe o link desse projeto no campo ao lado para que outros desenvolvedores possam analisá-lo.\n"
   ]
  },
  {
   "cell_type": "code",
   "execution_count": 1,
   "metadata": {},
   "outputs": [
    {
     "data": {
      "text/plain": [
       "10"
      ]
     },
     "execution_count": 1,
     "metadata": {},
     "output_type": "execute_result"
    }
   ],
   "source": [
    "# Funções -------------------------\n",
    "\n",
    "def somar(n1, n2):\n",
    "    return n1 + n2\n",
    "\n",
    "\n",
    "def subtrair(n1, n2):\n",
    "    return n1 - n2\n",
    "\n",
    "\n",
    "def multiplicar(n1, n2):\n",
    "    return n1 * n2\n",
    "\n",
    "\n",
    "def dividir(n1, n2):\n",
    "    return n1 / n2\n",
    "\n",
    "\n",
    "# Variáveis -------------------------\n",
    "n1:float = 0\n",
    "n2:float = 0\n",
    "op:int = 0\n",
    "resultado:float = 0\n",
    "operacoes:list = {1:somar, 2:subtrair, \n",
    "                  3:multiplicar, 4:dividir}\n",
    "\n",
    "# Loop menu de opções\n",
    "while True:\n",
    "  # Imprimir opções\n",
    "  print(\"1 - Soma\")\n",
    "  print(\"2 - Subração\")\n",
    "  print(\"3 - Multiplicação\")\n",
    "  print(\"4 - Divisão\")\n",
    "  print(\"0 - Sair\")\n",
    "\n",
    "  # Entrada\n",
    "  n1 = float(input(\"Digite o 1º número: \"))\n",
    "  n2 = float(input(\"Digite o 2º número: \"))\n",
    "  op = float(input(\"Escolha a operação: \"))\n",
    "\n",
    "  # Se op == 0, sair\n",
    "  if op == 0:\n",
    "    print(\"Fim...\")\n",
    "    break\n",
    "  # Se a opção existe, então imprime o resultado\n",
    "  elif op in operacoes.keys():\n",
    "    resultado = operacoes[op](n1, n2)\n",
    "    print(f\"Este é o resultado: {operacoes[op](n1, n2)}\")\n",
    "  # Senão, informe qua a opção não \n",
    "  # existe e pule para a próxima iteração\n",
    "  else:\n",
    "    print(\"Essa opção não existe!\")\n",
    "    continue\n",
    "\n",
    "# Saída"
   ]
  }
 ],
 "metadata": {
  "kernelspec": {
   "display_name": "Python 3.8.10 64-bit",
   "language": "python",
   "name": "python3"
  },
  "language_info": {
   "codemirror_mode": {
    "name": "ipython",
    "version": 3
   },
   "file_extension": ".py",
   "mimetype": "text/x-python",
   "name": "python",
   "nbconvert_exporter": "python",
   "pygments_lexer": "ipython3",
   "version": "3.8.10"
  },
  "orig_nbformat": 4,
  "vscode": {
   "interpreter": {
    "hash": "82fbd41b33644bad7662c69960d7a372bfb883b21c6db4014fe0e40d5c1689fc"
   }
  }
 },
 "nbformat": 4,
 "nbformat_minor": 2
}
