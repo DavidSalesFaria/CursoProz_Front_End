{
 "cells": [
  {
   "cell_type": "markdown",
   "metadata": {},
   "source": [
    "# CodePark4\n",
    "\n",
    "\n",
    "**Instruções:**\n",
    "\n",
    "Faça uma função calculadora que os números e as operações serão feitas pelo usuário. O código deve ficar rodando infinitamente até que o usuário escolha a opção de sair. No início, o programa mostrará a seguinte lista de operações:\n",
    "\n",
    "1: Soma\n",
    "2: Subtração\n",
    "3: Multiplicação\n",
    "4: Divisão\n",
    "0: Sair\n",
    "\n",
    "Digite o número para a operação correspondente e caso o usuário introduza qualquer outro, o sistema deve mostrar a mensagem “Essa opção não existe” e voltar ao menu de opções.\n",
    "\n",
    "Após a seleção, o sistema deve pedir para o usuário inserir o primeiro e segundo valor, um de cada. Depois precisa executar a operação e mostrar o resultado na tela. Quando o usuário escolher a opção “Sair”, o sistema irá parar.\n",
    "\n",
    "É necessário que o sistema mostre as opções sempre que finalizar uma operação e mostrar o resultado. \n",
    "\n",
    "Trabalhe esse código em seu IDE, suba ele para sua conta no GitHub e compartilhe o link desse projeto no campo ao lado para que outros desenvolvedores possam analisá-lo.\n",
    "\n",
    "\n",
    "Executar: [Google Colab](https://colab.research.google.com/github/DavidSheltonSF/Proz-CodeParks/blob/main/CodePark4.ipynb)\n"
   ]
  },
  {
   "cell_type": "code",
   "execution_count": 1,
   "metadata": {},
   "outputs": [
    {
     "data": {
      "text/plain": [
       "10"
      ]
     },
     "execution_count": 1,
     "metadata": {},
     "output_type": "execute_result"
    }
   ],
   "source": [
    "def somar(n1, n2):\n",
    "    return n1 + n2\n",
    "\n",
    "\n",
    "def subtrair(n1, n2):\n",
    "    return n1 - n2\n",
    "\n",
    "\n",
    "def multiplicar(n1, n2):\n",
    "    return n1 * n2\n",
    "\n",
    "\n",
    "def dividir(n1, n2):\n",
    "    return n1 / n2\n",
    "\n",
    "\n"
   ]
  },
  {
   "cell_type": "markdown",
   "metadata": {},
   "source": [
    "Mesma função, porém utilizando a estrutura ESCOLHA-CASO em python (compatível apenas com python 3:10 ou superior)\n"
   ]
  },
  {
   "cell_type": "code",
   "execution_count": null,
   "metadata": {},
   "outputs": [],
   "source": [
    "\n",
    "def calc(n1, n2, op):\n",
    "    resultado = 0\n",
    "    match op:\n",
    "      case 1:\n",
    "        resultado = n1 + n2\n",
    "      case 2:\n",
    "          resultado = n1 - n2\n",
    "      case 3:\n",
    "          resultado = n1 * n2\n",
    "      case 4:\n",
    "          resultado = n1 / n2\n",
    "      case _:\n",
    "          pass\n",
    "    return resultado\n",
    "\n",
    "\n",
    "calculo = calc(5, 5, 4)"
   ]
  }
 ],
 "metadata": {
  "kernelspec": {
   "display_name": "Python 3.8.10 64-bit",
   "language": "python",
   "name": "python3"
  },
  "language_info": {
   "codemirror_mode": {
    "name": "ipython",
    "version": 3
   },
   "file_extension": ".py",
   "mimetype": "text/x-python",
   "name": "python",
   "nbconvert_exporter": "python",
   "pygments_lexer": "ipython3",
   "version": "3.8.10"
  },
  "orig_nbformat": 4,
  "vscode": {
   "interpreter": {
    "hash": "82fbd41b33644bad7662c69960d7a372bfb883b21c6db4014fe0e40d5c1689fc"
   }
  }
 },
 "nbformat": 4,
 "nbformat_minor": 2
}
