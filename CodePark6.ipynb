{
 "cells": [
  {
   "cell_type": "markdown",
   "metadata": {},
   "source": [
    "# CodePark6\n",
    "\n",
    "**Instruções:**\n",
    "\n",
    "Desenvolva um programa que recebe do usuário nome completo e ano de nascimento que seja entre 1922 e 2021.\n",
    "A partir dessas informações, o sistema mostrará o nome do usuário e a idade que completou, ou completará, no ano atual (2022).\n",
    "\n",
    "Caso o usuário não digite um número ou apareça um inválido no campo do ano, o sistema informará o erro e continuará perguntando até que um valor correto seja preenchido.\n",
    "\n",
    "Trabalhe esse código em seu IDE, suba ele para sua conta no GitHub e compartilhe o link desse projeto no campo ao lado para que outros desenvolvedores possam analisá-lo.\n",
    "\n",
    "\n",
    "Executar: [Google Colab](https://colab.research.google.com/github/DavidSheltonSF/Proz-CodeParks/blob/main/CodePark6.ipynb)\n"
   ]
  },
  {
   "cell_type": "code",
   "execution_count": null,
   "metadata": {},
   "outputs": [],
   "source": [
    "# 0 - Variáveis\n",
    "# 1 - Ler nome\n",
    "# 2 - Ler ano de nascimento\n",
    "# 3 - Se ano de nascimento não estiver entre 1922 e 2023, ou for \n",
    "# um valor inválido, então pergunt novamente, senão, informe \"Nome e ano de nascimento cadastrados!\"\n",
    "\n",
    "\n",
    "def valid_str_input(msg)-> str:\n",
    "  \"\"\"\n",
    "  Valida a entrada de uam string e retorna uma string\n",
    "  \"\"\"\n",
    "  while True:\n",
    "    texto = str(input(msg))\n",
    "    # Se o texto estiver vazio \"\", continue no laço\n",
    "    if not texto:\n",
    "      continue\n",
    "    # Senão, retorne o valor\n",
    "    else:\n",
    "      return texto\n",
    "\n",
    "\n",
    "\n",
    "nome:str = \"\"\n",
    "ano_nasc:int = 0\n",
    "\n",
    "while True:\n",
    "  # Tente executar:\n",
    "  try:\n",
    "    nome = valid_str_input(\"Informe seu nome: \")\n",
    "    ano_nasc = int(input(\"Informe o seu ano de nascimento: \"))\n",
    "\n",
    "    # SE ano_nasc NÃO está no interválo 1922 até 2023, continue no laço\n",
    "    if ano_nasc not in range(1922, 2023+1):\n",
    "      print(\"ERRO! Valor inválido para ano de nascimento.\")\n",
    "      continue\n",
    "  # Se deu erro:\n",
    "  except:\n",
    "    print(\"Ano de nascimento inválido!\")\n",
    "  # Se não deu erro:\n",
    "  else:\n",
    "    print(f\"{nome}, nascido em {ano_nasc}.\")\n",
    "    break\n",
    "\n",
    "print(\"FIM...\")\n",
    "\n"
   ]
  }
 ],
 "metadata": {
  "kernelspec": {
   "display_name": "Python 3.8.10 64-bit",
   "language": "python",
   "name": "python3"
  },
  "language_info": {
   "name": "python",
   "version": "3.8.10"
  },
  "orig_nbformat": 4,
  "vscode": {
   "interpreter": {
    "hash": "82fbd41b33644bad7662c69960d7a372bfb883b21c6db4014fe0e40d5c1689fc"
   }
  }
 },
 "nbformat": 4,
 "nbformat_minor": 2
}
