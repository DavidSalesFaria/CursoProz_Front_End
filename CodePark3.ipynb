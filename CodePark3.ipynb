{
  "cells": [
    {
      "cell_type": "markdown",
      "metadata": {},
      "source": [
        "# CodePark3\n",
        "\n",
        "\n",
        "**Instruções:**\n",
        "\n",
        "Precisamos imprimir um número para cada andar de um hotel de 20 andares. Porém, o dono do hotel é supersticioso e optou por não ter um 13ro andar.\n",
        "\n",
        "Escreva um código que imprima todos os números exceto o número 13.\n",
        "Escreva mais dois códigos que resolvam o mesmo problema, mas dessa vez usando os outros dois tipos de laços de repetição aprendidos.\n",
        "\n",
        "Como desafio, imprima eles em ordem decrescente (20, 19, 18...)\n",
        "\n",
        "Trabalhe esse código em seu IDE, suba ele para sua conta no GitHub e compartilhe o link desse projeto no campo ao lado para que outros desenvolvedores possam analisá-lo.\n",
        "\n",
        "\n",
        "Executar: [Google Colab](https://colab.research.google.com/github/DavidSheltonSF/Proz-CodeParks/blob/main/CodePark3.ipynb)"
      ]
    },
    {
      "cell_type": "code",
      "execution_count": null,
      "metadata": {
        "colab": {
          "base_uri": "https://localhost:8080/"
        },
        "id": "QMq7MdUZ_Pyl",
        "outputId": "ece7f10d-d4e7-4274-bbca-c092737026a9"
      },
      "outputs": [],
      "source": [
        "# Declaraçaõ das variáveis (Não obrigatório em python, porém é boa prática)\n",
        "n_andar:int = 0\n",
        "\n",
        "# Usuário insere o número de andares\n",
        "n_andar = int(input(\"Informa o número de andares: \"))\n",
        "# Inicia a impressão dos número\n",
        "for i in range(n_andar, 0, -1):\n",
        "\n",
        "  # 3º Se o número for 13 pule-o\n",
        "  if i == 13:\n",
        "    continue\n",
        "  # Senão, imprima-o\n",
        "  else:\n",
        "    print(i)\n",
        "\n"
      ]
    }
  ],
  "metadata": {
    "colab": {
      "provenance": []
    },
    "kernelspec": {
      "display_name": "Python 3.8.10 64-bit",
      "language": "python",
      "name": "python3"
    },
    "language_info": {
      "name": "python",
      "version": "3.8.10"
    },
    "vscode": {
      "interpreter": {
        "hash": "82fbd41b33644bad7662c69960d7a372bfb883b21c6db4014fe0e40d5c1689fc"
      }
    }
  },
  "nbformat": 4,
  "nbformat_minor": 0
}
