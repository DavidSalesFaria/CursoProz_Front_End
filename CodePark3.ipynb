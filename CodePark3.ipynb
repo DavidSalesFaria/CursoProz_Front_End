{
  "nbformat": 4,
  "nbformat_minor": 0,
  "metadata": {
    "colab": {
      "provenance": []
    },
    "kernelspec": {
      "name": "python3",
      "display_name": "Python 3"
    },
    "language_info": {
      "name": "python"
    }
  },
  "cells": [
    {
      "cell_type": "code",
      "execution_count": 6,
      "metadata": {
        "colab": {
          "base_uri": "https://localhost:8080/"
        },
        "id": "QMq7MdUZ_Pyl",
        "outputId": "ece7f10d-d4e7-4274-bbca-c092737026a9"
      },
      "outputs": [
        {
          "output_type": "stream",
          "name": "stdout",
          "text": [
            "Informa o número de andares: 10\n",
            "Térreo\n",
            "1\n",
            "2\n",
            "3\n",
            "4\n",
            "5\n",
            "6\n",
            "7\n",
            "8\n",
            "9\n",
            "10\n"
          ]
        }
      ],
      "source": [
        "# Declaraçaõ das variáveis (Não obrigatório em python, porém é boa prática)\n",
        "n_andar:int = 0\n",
        "\n",
        "# Usuário insere o número de andares\n",
        "n_andar = int(input(\"Informa o número de andares: \"))\n",
        "# Inicia a impressão dos número\n",
        "for i in range(n_andar+1):\n",
        "  # Se for 0 é térreo\n",
        "  if i == 0:\n",
        "    print(\"Térreo\")\n",
        "    continue\n",
        "  # 3º Se o número for 13 pule-o\n",
        "  elif i == 13:\n",
        "    continue\n",
        "  # Senão, imprima-o\n",
        "  else:\n",
        "    print(i)\n",
        "\n"
      ]
    }
  ]
}